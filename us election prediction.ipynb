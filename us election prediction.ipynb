{
 "cells": [
  {
   "cell_type": "code",
   "execution_count": 27,
   "metadata": {},
   "outputs": [
    {
     "name": "stdout",
     "output_type": "stream",
     "text": [
      "Loading...\n",
      "100%...necessary libraries imported\n"
     ]
    },
    {
     "ename": "ModuleNotFoundError",
     "evalue": "No module named 'plotly'",
     "output_type": "error",
     "traceback": [
      "\u001b[1;31m---------------------------------------------------------------------------\u001b[0m",
      "\u001b[1;31mModuleNotFoundError\u001b[0m                       Traceback (most recent call last)",
      "\u001b[1;32m<ipython-input-27-55f4d4762afd>\u001b[0m in \u001b[0;36m<module>\u001b[1;34m\u001b[0m\n\u001b[0;32m      9\u001b[0m \u001b[1;32mimport\u001b[0m \u001b[0mmatplotlib\u001b[0m\u001b[1;33m.\u001b[0m\u001b[0mpyplot\u001b[0m \u001b[1;32mas\u001b[0m \u001b[0mplt\u001b[0m\u001b[1;33m\u001b[0m\u001b[1;33m\u001b[0m\u001b[0m\n\u001b[0;32m     10\u001b[0m \u001b[0mget_ipython\u001b[0m\u001b[1;33m(\u001b[0m\u001b[1;33m)\u001b[0m\u001b[1;33m.\u001b[0m\u001b[0mrun_line_magic\u001b[0m\u001b[1;33m(\u001b[0m\u001b[1;34m'matplotlib'\u001b[0m\u001b[1;33m,\u001b[0m \u001b[1;34m'inline'\u001b[0m\u001b[1;33m)\u001b[0m\u001b[1;33m\u001b[0m\u001b[1;33m\u001b[0m\u001b[0m\n\u001b[1;32m---> 11\u001b[1;33m \u001b[1;32mimport\u001b[0m \u001b[0mplotly\u001b[0m\u001b[1;33m.\u001b[0m\u001b[0moffline\u001b[0m \u001b[1;32mas\u001b[0m \u001b[0mpy\u001b[0m\u001b[1;33m\u001b[0m\u001b[1;33m\u001b[0m\u001b[0m\n\u001b[0m\u001b[0;32m     12\u001b[0m \u001b[1;32mimport\u001b[0m \u001b[0mplotly\u001b[0m\u001b[1;33m.\u001b[0m\u001b[0mgraph_objs\u001b[0m \u001b[1;32mas\u001b[0m \u001b[0mgo\u001b[0m\u001b[1;33m\u001b[0m\u001b[1;33m\u001b[0m\u001b[0m\n\u001b[0;32m     13\u001b[0m \u001b[1;32mfrom\u001b[0m \u001b[0mplotly\u001b[0m\u001b[1;33m.\u001b[0m\u001b[0moffline\u001b[0m \u001b[1;32mimport\u001b[0m \u001b[0mdownload_plotlyjs\u001b[0m\u001b[1;33m,\u001b[0m \u001b[0minit_notebook_mode\u001b[0m\u001b[1;33m,\u001b[0m \u001b[0mplot\u001b[0m\u001b[1;33m,\u001b[0m \u001b[0miplot\u001b[0m\u001b[1;33m\u001b[0m\u001b[1;33m\u001b[0m\u001b[0m\n",
      "\u001b[1;31mModuleNotFoundError\u001b[0m: No module named 'plotly'"
     ]
    }
   ],
   "source": [
    "import pandas as pd\n",
    "import numpy as np\n",
    "import matplotlib.pyplot as plt\n",
    "\n",
    "\n",
    "#Plots\n",
    "import seaborn as sns\n",
    "import matplotlib.pyplot as plt\n",
    "%matplotlib inline\n",
    "import plotly.offline as py\n",
    "import plotly.graph_objs as go\n",
    "from plotly.offline import download_plotlyjs, init_notebook_mode, plot, iplot\n",
    "import plotly.tools as tls\n",
    "import plotly.figure_factory as ff\n",
    "py.init_notebook_mode(connected=True)\n",
    "import squarify\n",
    "\n",
    "print('Loading...')\n",
    "print('100%...necessary libraries imported')"
   ]
  },
  {
   "cell_type": "code",
   "execution_count": 2,
   "metadata": {},
   "outputs": [
    {
     "data": {
      "text/html": [
       "<div>\n",
       "<style scoped>\n",
       "    .dataframe tbody tr th:only-of-type {\n",
       "        vertical-align: middle;\n",
       "    }\n",
       "\n",
       "    .dataframe tbody tr th {\n",
       "        vertical-align: top;\n",
       "    }\n",
       "\n",
       "    .dataframe thead th {\n",
       "        text-align: right;\n",
       "    }\n",
       "</style>\n",
       "<table border=\"1\" class=\"dataframe\">\n",
       "  <thead>\n",
       "    <tr style=\"text-align: right;\">\n",
       "      <th></th>\n",
       "      <th>Unnamed: 0</th>\n",
       "      <th>Gender</th>\n",
       "      <th>Age</th>\n",
       "      <th>Income</th>\n",
       "      <th>Region</th>\n",
       "      <th>PartyID</th>\n",
       "      <th>Ideology</th>\n",
       "      <th>Vote Intention</th>\n",
       "      <th>Attention to election</th>\n",
       "    </tr>\n",
       "  </thead>\n",
       "  <tbody>\n",
       "    <tr>\n",
       "      <td>0</td>\n",
       "      <td>NaN</td>\n",
       "      <td>Male</td>\n",
       "      <td>45-65</td>\n",
       "      <td>Under $50K</td>\n",
       "      <td>West</td>\n",
       "      <td>Democratic</td>\n",
       "      <td>Liberal</td>\n",
       "      <td>Trump</td>\n",
       "      <td>A lot</td>\n",
       "    </tr>\n",
       "    <tr>\n",
       "      <td>1</td>\n",
       "      <td>NaN</td>\n",
       "      <td>Male</td>\n",
       "      <td>65+</td>\n",
       "      <td>$50-100K</td>\n",
       "      <td>West</td>\n",
       "      <td>Independent</td>\n",
       "      <td>Modern Liberal</td>\n",
       "      <td>Trump</td>\n",
       "      <td>A lot</td>\n",
       "    </tr>\n",
       "    <tr>\n",
       "      <td>2</td>\n",
       "      <td>NaN</td>\n",
       "      <td>Male</td>\n",
       "      <td>30-44</td>\n",
       "      <td>Under $50K</td>\n",
       "      <td>Midwest</td>\n",
       "      <td>Democratic</td>\n",
       "      <td>Conservative</td>\n",
       "      <td>Trump</td>\n",
       "      <td>A lot</td>\n",
       "    </tr>\n",
       "    <tr>\n",
       "      <td>3</td>\n",
       "      <td>NaN</td>\n",
       "      <td>Male</td>\n",
       "      <td>30-44</td>\n",
       "      <td>Under $50K</td>\n",
       "      <td>Northeast</td>\n",
       "      <td>Democratic</td>\n",
       "      <td>Liberal</td>\n",
       "      <td>Biden</td>\n",
       "      <td>A lot</td>\n",
       "    </tr>\n",
       "    <tr>\n",
       "      <td>4</td>\n",
       "      <td>NaN</td>\n",
       "      <td>Male</td>\n",
       "      <td>45-65</td>\n",
       "      <td>Under $50K</td>\n",
       "      <td>Midwest</td>\n",
       "      <td>Republican</td>\n",
       "      <td>Conservative</td>\n",
       "      <td>Trump</td>\n",
       "      <td>A lot</td>\n",
       "    </tr>\n",
       "    <tr>\n",
       "      <td>...</td>\n",
       "      <td>...</td>\n",
       "      <td>...</td>\n",
       "      <td>...</td>\n",
       "      <td>...</td>\n",
       "      <td>...</td>\n",
       "      <td>...</td>\n",
       "      <td>...</td>\n",
       "      <td>...</td>\n",
       "      <td>...</td>\n",
       "    </tr>\n",
       "    <tr>\n",
       "      <td>1495</td>\n",
       "      <td>NaN</td>\n",
       "      <td>Female</td>\n",
       "      <td>65+</td>\n",
       "      <td>$50-100K</td>\n",
       "      <td>Northeast</td>\n",
       "      <td>Republican</td>\n",
       "      <td>Modern Liberal</td>\n",
       "      <td>Trump</td>\n",
       "      <td>Not at all</td>\n",
       "    </tr>\n",
       "    <tr>\n",
       "      <td>1496</td>\n",
       "      <td>NaN</td>\n",
       "      <td>Female</td>\n",
       "      <td>45-65</td>\n",
       "      <td>$50-100K</td>\n",
       "      <td>South</td>\n",
       "      <td>Independent</td>\n",
       "      <td>Liberal</td>\n",
       "      <td>Biden</td>\n",
       "      <td>Not at all</td>\n",
       "    </tr>\n",
       "    <tr>\n",
       "      <td>1497</td>\n",
       "      <td>NaN</td>\n",
       "      <td>Female</td>\n",
       "      <td>30-44</td>\n",
       "      <td>Under $50K</td>\n",
       "      <td>South</td>\n",
       "      <td>Democratic</td>\n",
       "      <td>Conservative</td>\n",
       "      <td>Trump</td>\n",
       "      <td>Not at all</td>\n",
       "    </tr>\n",
       "    <tr>\n",
       "      <td>1498</td>\n",
       "      <td>NaN</td>\n",
       "      <td>Female</td>\n",
       "      <td>30-44</td>\n",
       "      <td>Under $50K</td>\n",
       "      <td>West</td>\n",
       "      <td>Democratic</td>\n",
       "      <td>Conservative</td>\n",
       "      <td>Biden</td>\n",
       "      <td>Not at all</td>\n",
       "    </tr>\n",
       "    <tr>\n",
       "      <td>1499</td>\n",
       "      <td>NaN</td>\n",
       "      <td>Female</td>\n",
       "      <td>18-29</td>\n",
       "      <td>$100K or more</td>\n",
       "      <td>South</td>\n",
       "      <td>Republican</td>\n",
       "      <td>Modern Liberal</td>\n",
       "      <td>Biden</td>\n",
       "      <td>Not at all</td>\n",
       "    </tr>\n",
       "  </tbody>\n",
       "</table>\n",
       "<p>1500 rows × 9 columns</p>\n",
       "</div>"
      ],
      "text/plain": [
       "      Unnamed: 0  Gender    Age         Income     Region      PartyID  \\\n",
       "0            NaN    Male  45-65     Under $50K       West   Democratic   \n",
       "1            NaN    Male    65+       $50-100K       West  Independent   \n",
       "2            NaN    Male  30-44     Under $50K    Midwest   Democratic   \n",
       "3            NaN    Male  30-44     Under $50K  Northeast   Democratic   \n",
       "4            NaN    Male  45-65     Under $50K    Midwest   Republican   \n",
       "...          ...     ...    ...            ...        ...          ...   \n",
       "1495         NaN  Female    65+       $50-100K  Northeast   Republican   \n",
       "1496         NaN  Female  45-65       $50-100K      South  Independent   \n",
       "1497         NaN  Female  30-44     Under $50K      South   Democratic   \n",
       "1498         NaN  Female  30-44     Under $50K       West   Democratic   \n",
       "1499         NaN  Female  18-29  $100K or more      South   Republican   \n",
       "\n",
       "            Ideology Vote Intention Attention to election  \n",
       "0            Liberal          Trump                 A lot  \n",
       "1     Modern Liberal          Trump                 A lot  \n",
       "2       Conservative          Trump                 A lot  \n",
       "3            Liberal          Biden                 A lot  \n",
       "4       Conservative          Trump                 A lot  \n",
       "...              ...            ...                   ...  \n",
       "1495  Modern Liberal          Trump            Not at all  \n",
       "1496         Liberal          Biden            Not at all  \n",
       "1497    Conservative          Trump            Not at all  \n",
       "1498    Conservative          Biden            Not at all  \n",
       "1499  Modern Liberal          Biden            Not at all  \n",
       "\n",
       "[1500 rows x 9 columns]"
      ]
     },
     "execution_count": 2,
     "metadata": {},
     "output_type": "execute_result"
    }
   ],
   "source": [
    "data = pd.read_excel('improvised_data.xlsx')\n",
    "data"
   ]
  },
  {
   "cell_type": "markdown",
   "metadata": {},
   "source": [
    "# EDA"
   ]
  },
  {
   "cell_type": "code",
   "execution_count": 3,
   "metadata": {},
   "outputs": [
    {
     "name": "stdout",
     "output_type": "stream",
     "text": [
      "<class 'pandas.core.frame.DataFrame'>\n",
      "RangeIndex: 1500 entries, 0 to 1499\n",
      "Data columns (total 9 columns):\n",
      "Unnamed: 0               0 non-null float64\n",
      "Gender                   1500 non-null object\n",
      "Age                      1500 non-null object\n",
      "Income                   1500 non-null object\n",
      "Region                   1500 non-null object\n",
      "PartyID                  1500 non-null object\n",
      "Ideology                 1500 non-null object\n",
      "Vote Intention           1500 non-null object\n",
      "Attention to election    1500 non-null object\n",
      "dtypes: float64(1), object(8)\n",
      "memory usage: 105.6+ KB\n"
     ]
    }
   ],
   "source": [
    "data.info()"
   ]
  },
  {
   "cell_type": "code",
   "execution_count": 4,
   "metadata": {},
   "outputs": [
    {
     "data": {
      "text/plain": [
       "Index(['Unnamed: 0', 'Gender', 'Age', 'Income', 'Region', 'PartyID',\n",
       "       'Ideology', 'Vote Intention', 'Attention to election'],\n",
       "      dtype='object')"
      ]
     },
     "execution_count": 4,
     "metadata": {},
     "output_type": "execute_result"
    }
   ],
   "source": [
    "data.columns"
   ]
  },
  {
   "cell_type": "code",
   "execution_count": 16,
   "metadata": {},
   "outputs": [],
   "source": [
    "#dropping unnamed column\n",
    "data = data.drop('Unnamed: 0', axis =1)"
   ]
  },
  {
   "cell_type": "markdown",
   "metadata": {},
   "source": [
    "### Looking closely at columns"
   ]
  },
  {
   "cell_type": "code",
   "execution_count": 17,
   "metadata": {},
   "outputs": [
    {
     "data": {
      "text/plain": [
       "Female    817\n",
       "Male      683\n",
       "Name: Gender, dtype: int64"
      ]
     },
     "execution_count": 17,
     "metadata": {},
     "output_type": "execute_result"
    }
   ],
   "source": [
    "data.Gender.value_counts()"
   ]
  },
  {
   "cell_type": "code",
   "execution_count": 18,
   "metadata": {},
   "outputs": [
    {
     "data": {
      "text/plain": [
       "45-65    622\n",
       "65+      400\n",
       "30-44    303\n",
       "18-29    175\n",
       "Name: Age, dtype: int64"
      ]
     },
     "execution_count": 18,
     "metadata": {},
     "output_type": "execute_result"
    }
   ],
   "source": [
    "data.Age.value_counts()"
   ]
  },
  {
   "cell_type": "code",
   "execution_count": 19,
   "metadata": {
    "scrolled": true
   },
   "outputs": [
    {
     "data": {
      "text/plain": [
       "Under $50K       631\n",
       "$50-100K         532\n",
       "$100K or more    337\n",
       "Name: Income, dtype: int64"
      ]
     },
     "execution_count": 19,
     "metadata": {},
     "output_type": "execute_result"
    }
   ],
   "source": [
    "data.Income.value_counts()"
   ]
  },
  {
   "cell_type": "code",
   "execution_count": 20,
   "metadata": {},
   "outputs": [
    {
     "data": {
      "text/plain": [
       "South        576\n",
       "West         383\n",
       "Midwest      279\n",
       "Northeast    262\n",
       "Name: Region, dtype: int64"
      ]
     },
     "execution_count": 20,
     "metadata": {},
     "output_type": "execute_result"
    }
   ],
   "source": [
    "data.Region.value_counts()"
   ]
  },
  {
   "cell_type": "code",
   "execution_count": 21,
   "metadata": {
    "scrolled": true
   },
   "outputs": [
    {
     "data": {
      "text/plain": [
       "Democratic     546\n",
       "Independent    537\n",
       "Republican     417\n",
       "Name: PartyID, dtype: int64"
      ]
     },
     "execution_count": 21,
     "metadata": {},
     "output_type": "execute_result"
    }
   ],
   "source": [
    "data.PartyID.value_counts()"
   ]
  },
  {
   "cell_type": "code",
   "execution_count": 22,
   "metadata": {},
   "outputs": [
    {
     "data": {
      "text/plain": [
       "Conservative      549\n",
       "Liberal           482\n",
       "Modern Liberal    469\n",
       "Name: Ideology, dtype: int64"
      ]
     },
     "execution_count": 22,
     "metadata": {},
     "output_type": "execute_result"
    }
   ],
   "source": [
    "data.Ideology.value_counts()"
   ]
  },
  {
   "cell_type": "code",
   "execution_count": 23,
   "metadata": {},
   "outputs": [
    {
     "data": {
      "text/plain": [
       "A lot            1018\n",
       "Some              312\n",
       "Only a little     152\n",
       "Not at all         18\n",
       "Name: Attention to election, dtype: int64"
      ]
     },
     "execution_count": 23,
     "metadata": {},
     "output_type": "execute_result"
    }
   ],
   "source": [
    "data['Attention to election'].value_counts() "
   ]
  },
  {
   "cell_type": "code",
   "execution_count": 24,
   "metadata": {},
   "outputs": [],
   "source": [
    "#Changing name of y to Target\n",
    "data.columns = ['Gender', 'Age', 'Income', 'Region', 'PartyID', 'Ideology', 'Target', 'Attention to election']"
   ]
  },
  {
   "cell_type": "code",
   "execution_count": 25,
   "metadata": {
    "scrolled": true
   },
   "outputs": [
    {
     "data": {
      "text/html": [
       "<div>\n",
       "<style scoped>\n",
       "    .dataframe tbody tr th:only-of-type {\n",
       "        vertical-align: middle;\n",
       "    }\n",
       "\n",
       "    .dataframe tbody tr th {\n",
       "        vertical-align: top;\n",
       "    }\n",
       "\n",
       "    .dataframe thead th {\n",
       "        text-align: right;\n",
       "    }\n",
       "</style>\n",
       "<table border=\"1\" class=\"dataframe\">\n",
       "  <thead>\n",
       "    <tr style=\"text-align: right;\">\n",
       "      <th></th>\n",
       "      <th>Gender</th>\n",
       "      <th>Age</th>\n",
       "      <th>Income</th>\n",
       "      <th>Region</th>\n",
       "      <th>PartyID</th>\n",
       "      <th>Ideology</th>\n",
       "      <th>Target</th>\n",
       "      <th>Attention to election</th>\n",
       "    </tr>\n",
       "  </thead>\n",
       "  <tbody>\n",
       "    <tr>\n",
       "      <td>0</td>\n",
       "      <td>Male</td>\n",
       "      <td>45-65</td>\n",
       "      <td>Under $50K</td>\n",
       "      <td>West</td>\n",
       "      <td>Democratic</td>\n",
       "      <td>Liberal</td>\n",
       "      <td>Trump</td>\n",
       "      <td>A lot</td>\n",
       "    </tr>\n",
       "    <tr>\n",
       "      <td>1</td>\n",
       "      <td>Male</td>\n",
       "      <td>65+</td>\n",
       "      <td>$50-100K</td>\n",
       "      <td>West</td>\n",
       "      <td>Independent</td>\n",
       "      <td>Modern Liberal</td>\n",
       "      <td>Trump</td>\n",
       "      <td>A lot</td>\n",
       "    </tr>\n",
       "    <tr>\n",
       "      <td>2</td>\n",
       "      <td>Male</td>\n",
       "      <td>30-44</td>\n",
       "      <td>Under $50K</td>\n",
       "      <td>Midwest</td>\n",
       "      <td>Democratic</td>\n",
       "      <td>Conservative</td>\n",
       "      <td>Trump</td>\n",
       "      <td>A lot</td>\n",
       "    </tr>\n",
       "    <tr>\n",
       "      <td>3</td>\n",
       "      <td>Male</td>\n",
       "      <td>30-44</td>\n",
       "      <td>Under $50K</td>\n",
       "      <td>Northeast</td>\n",
       "      <td>Democratic</td>\n",
       "      <td>Liberal</td>\n",
       "      <td>Biden</td>\n",
       "      <td>A lot</td>\n",
       "    </tr>\n",
       "    <tr>\n",
       "      <td>4</td>\n",
       "      <td>Male</td>\n",
       "      <td>45-65</td>\n",
       "      <td>Under $50K</td>\n",
       "      <td>Midwest</td>\n",
       "      <td>Republican</td>\n",
       "      <td>Conservative</td>\n",
       "      <td>Trump</td>\n",
       "      <td>A lot</td>\n",
       "    </tr>\n",
       "    <tr>\n",
       "      <td>...</td>\n",
       "      <td>...</td>\n",
       "      <td>...</td>\n",
       "      <td>...</td>\n",
       "      <td>...</td>\n",
       "      <td>...</td>\n",
       "      <td>...</td>\n",
       "      <td>...</td>\n",
       "      <td>...</td>\n",
       "    </tr>\n",
       "    <tr>\n",
       "      <td>1495</td>\n",
       "      <td>Female</td>\n",
       "      <td>65+</td>\n",
       "      <td>$50-100K</td>\n",
       "      <td>Northeast</td>\n",
       "      <td>Republican</td>\n",
       "      <td>Modern Liberal</td>\n",
       "      <td>Trump</td>\n",
       "      <td>Not at all</td>\n",
       "    </tr>\n",
       "    <tr>\n",
       "      <td>1496</td>\n",
       "      <td>Female</td>\n",
       "      <td>45-65</td>\n",
       "      <td>$50-100K</td>\n",
       "      <td>South</td>\n",
       "      <td>Independent</td>\n",
       "      <td>Liberal</td>\n",
       "      <td>Biden</td>\n",
       "      <td>Not at all</td>\n",
       "    </tr>\n",
       "    <tr>\n",
       "      <td>1497</td>\n",
       "      <td>Female</td>\n",
       "      <td>30-44</td>\n",
       "      <td>Under $50K</td>\n",
       "      <td>South</td>\n",
       "      <td>Democratic</td>\n",
       "      <td>Conservative</td>\n",
       "      <td>Trump</td>\n",
       "      <td>Not at all</td>\n",
       "    </tr>\n",
       "    <tr>\n",
       "      <td>1498</td>\n",
       "      <td>Female</td>\n",
       "      <td>30-44</td>\n",
       "      <td>Under $50K</td>\n",
       "      <td>West</td>\n",
       "      <td>Democratic</td>\n",
       "      <td>Conservative</td>\n",
       "      <td>Biden</td>\n",
       "      <td>Not at all</td>\n",
       "    </tr>\n",
       "    <tr>\n",
       "      <td>1499</td>\n",
       "      <td>Female</td>\n",
       "      <td>18-29</td>\n",
       "      <td>$100K or more</td>\n",
       "      <td>South</td>\n",
       "      <td>Republican</td>\n",
       "      <td>Modern Liberal</td>\n",
       "      <td>Biden</td>\n",
       "      <td>Not at all</td>\n",
       "    </tr>\n",
       "  </tbody>\n",
       "</table>\n",
       "<p>1500 rows × 8 columns</p>\n",
       "</div>"
      ],
      "text/plain": [
       "      Gender    Age         Income     Region      PartyID        Ideology  \\\n",
       "0       Male  45-65     Under $50K       West   Democratic         Liberal   \n",
       "1       Male    65+       $50-100K       West  Independent  Modern Liberal   \n",
       "2       Male  30-44     Under $50K    Midwest   Democratic    Conservative   \n",
       "3       Male  30-44     Under $50K  Northeast   Democratic         Liberal   \n",
       "4       Male  45-65     Under $50K    Midwest   Republican    Conservative   \n",
       "...      ...    ...            ...        ...          ...             ...   \n",
       "1495  Female    65+       $50-100K  Northeast   Republican  Modern Liberal   \n",
       "1496  Female  45-65       $50-100K      South  Independent         Liberal   \n",
       "1497  Female  30-44     Under $50K      South   Democratic    Conservative   \n",
       "1498  Female  30-44     Under $50K       West   Democratic    Conservative   \n",
       "1499  Female  18-29  $100K or more      South   Republican  Modern Liberal   \n",
       "\n",
       "     Target Attention to election  \n",
       "0     Trump                 A lot  \n",
       "1     Trump                 A lot  \n",
       "2     Trump                 A lot  \n",
       "3     Biden                 A lot  \n",
       "4     Trump                 A lot  \n",
       "...     ...                   ...  \n",
       "1495  Trump            Not at all  \n",
       "1496  Biden            Not at all  \n",
       "1497  Trump            Not at all  \n",
       "1498  Biden            Not at all  \n",
       "1499  Biden            Not at all  \n",
       "\n",
       "[1500 rows x 8 columns]"
      ]
     },
     "execution_count": 25,
     "metadata": {},
     "output_type": "execute_result"
    }
   ],
   "source": [
    "data"
   ]
  },
  {
   "cell_type": "code",
   "execution_count": null,
   "metadata": {},
   "outputs": [],
   "source": [
    "gender to age\n",
    "age to income\n",
    "income to region\n",
    "region to partyid\n",
    "partyid to ideology\n",
    "age to attention-to-election"
   ]
  },
  {
   "cell_type": "markdown",
   "metadata": {},
   "source": [
    "## Citizens who paid attention to election"
   ]
  },
  {
   "cell_type": "code",
   "execution_count": 31,
   "metadata": {},
   "outputs": [
    {
     "data": {
      "text/plain": [
       "Age    Gender\n",
       "18-29  Female    103\n",
       "       Male       72\n",
       "30-44  Female    168\n",
       "       Male      135\n",
       "45-65  Female    327\n",
       "       Male      295\n",
       "65+    Female    219\n",
       "       Male      181\n",
       "Name: Attention to election, dtype: int64"
      ]
     },
     "execution_count": 31,
     "metadata": {},
     "output_type": "execute_result"
    }
   ],
   "source": [
    "data.groupby(['Age', 'Gender']).count()['Attention to election']"
   ]
  },
  {
   "cell_type": "code",
   "execution_count": 43,
   "metadata": {},
   "outputs": [
    {
     "data": {
      "text/plain": [
       "Text(0.5, 1.0, 'Attention to election')"
      ]
     },
     "execution_count": 43,
     "metadata": {},
     "output_type": "execute_result"
    },
    {
     "data": {
      "image/png": "[encoded data removed]",
      "text/plain": [
       "<Figure size 864x576 with 1 Axes>"
      ]
     },
     "metadata": {
      "needs_background": "light"
     },
     "output_type": "display_data"
    }
   ],
   "source": [
    "plt.figure(figsize=(12,8))\n",
    "x_gender = ['Female', 'Male']\n",
    "x_indexes = np.arange(len(x_gender))\n",
    "width = 0.1 \n",
    "\n",
    "y_18 = [103, 72]\n",
    "plt.bar(x_indexes + 0.1, y_18, width = width ,label = '18-29')\n",
    "\n",
    "y_30 = [168, 135]\n",
    "plt.bar(x_indexes - 0.1, y_30, width = width, label = '30-44')\n",
    "\n",
    "y_45 = [327, 295]\n",
    "plt.bar(x_indexes, y_45, width = width, label = '45-65')\n",
    "\n",
    "y_65plus = [219, 181]\n",
    "plt.bar(x_indexes + 0.2, y_65plus, width = width, label = '65+')\n",
    "\n",
    "plt.legend()\n",
    "\n",
    "plt.xlabel('Gender', fontsize=18)\n",
    "plt.xticks(ticks = x_indexes, labels = x_gender, fontsize = 12)\n",
    "plt.yticks(fontsize = 14)\n",
    "plt.title('Attention to election', fontsize=22)"
   ]
  },
  {
   "cell_type": "markdown",
   "metadata": {},
   "source": [
    "## PartyID count by Gender"
   ]
  },
  {
   "cell_type": "code",
   "execution_count": 41,
   "metadata": {},
   "outputs": [
    {
     "data": {
      "text/plain": [
       "PartyID      Gender\n",
       "Democratic   Female    304\n",
       "             Male      242\n",
       "Independent  Female    297\n",
       "             Male      240\n",
       "Republican   Female    216\n",
       "             Male      201\n",
       "Name: Ideology, dtype: int64"
      ]
     },
     "execution_count": 41,
     "metadata": {},
     "output_type": "execute_result"
    }
   ],
   "source": [
    "data.groupby(['PartyID', 'Gender']).count()['Ideology']"
   ]
  },
  {
   "cell_type": "code",
   "execution_count": 44,
   "metadata": {},
   "outputs": [
    {
     "data": {
      "text/plain": [
       "Text(0.5, 1.0, 'PartyID count by Gender')"
      ]
     },
     "execution_count": 44,
     "metadata": {},
     "output_type": "execute_result"
    },
    {
     "data": {
      "image/png": "[encoded data removed]",
      "text/plain": [
       "<Figure size 864x576 with 1 Axes>"
      ]
     },
     "metadata": {
      "needs_background": "light"
     },
     "output_type": "display_data"
    }
   ],
   "source": [
    "plt.figure(figsize=(12,8))\n",
    "x_gender = ['Female', 'Male']\n",
    "x_indexes = np.arange(len(x_gender))\n",
    "width = 0.1 \n",
    "\n",
    "y_demo = [304, 242]\n",
    "plt.bar(x_indexes + 0.1, y_demo, width = width ,label = 'Democratic')\n",
    "\n",
    "y_ind = [297, 240]\n",
    "plt.bar(x_indexes - 0.1, y_ind, width = width, label = 'Independent')\n",
    "\n",
    "y_rep = [216, 201]\n",
    "plt.bar(x_indexes, y_rep, width = width, label = 'Republic')\n",
    "\n",
    "\n",
    "plt.legend()\n",
    "\n",
    "plt.xlabel('Gender', fontsize=18)\n",
    "plt.xticks(ticks = x_indexes, labels = x_gender, fontsize = 12)\n",
    "plt.ylabel('Age range', fontsize=18)\n",
    "plt.title('PartyID count by Gender', fontsize=22)"
   ]
  },
  {
   "cell_type": "code",
   "execution_count": null,
   "metadata": {},
   "outputs": [],
   "source": []
  }
 ],
 "metadata": {
  "kernelspec": {
   "display_name": "Python 3",
   "language": "python",
   "name": "python3"
  },
  "language_info": {
   "codemirror_mode": {
    "name": "ipython",
    "version": 3
   },
   "file_extension": ".py",
   "mimetype": "text/x-python",
   "name": "python",
   "nbconvert_exporter": "python",
   "pygments_lexer": "ipython3",
   "version": "3.7.4"
  }
 },
 "nbformat": 4,
 "nbformat_minor": 2
}
